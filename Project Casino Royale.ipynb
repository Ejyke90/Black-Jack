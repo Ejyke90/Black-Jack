{
 "cells": [
  {
   "cell_type": "markdown",
   "metadata": {
    "collapsed": true
   },
   "source": [
    "# Project  - Casino Royale\n"
   ]
  },
  {
   "cell_type": "markdown",
   "metadata": {},
   "source": [
    "## The Rules of the Game\n",
    "So here are the rules or steps that must be followed:\n",
    "1. Create a deck of 52 cards\n",
    "2. Shuffle the deck\n",
    "3. Ask the Player for their bet\n",
    "4. Make sure that the Player's bet does not exceed their available chips\n",
    "5. Deal two cards to the Dealer and two cards to the Player\n",
    "6. Show only one of the Dealer's cards, the other remains hidden\n",
    "7. Show both of the Player's cards\n",
    "8. Ask the Player if they wish to Hit, and take another card\n",
    "9. If the Player's hand doesn't Bust (go over 21), ask if they'd like to Hit again.\n",
    "10. If a Player Stands, play the Dealer's hand. The dealer will always Hit until the Dealer's value meets or exceeds 17\n",
    "11. Determine the winner and adjust the Player's chips accordingly\n",
    "12. Ask the Player if they'd like to play again\n",
    "\n",
    "Let's play, hopefully the house wins lol"
   ]
  },
  {
   "cell_type": "markdown",
   "metadata": {},
   "source": [
    "## Playing Cards\n",
    "A standard deck of playing cards has four suits (Hearts, Diamonds, Spades and Clubs) and thirteen ranks (2 through 10, then the face cards Jack, Queen, King and Ace) for a total of 52 cards per deck. Jacks, Queens and Kings all have a rank of 10. Aces have a rank of either 11 or 1 as needed to reach 21 without busting. As a starting point in my program, I assigned variables to store a list of suits, ranks, and then used a dictionary to map ranks to values."
   ]
  },
  {
   "cell_type": "markdown",
   "metadata": {},
   "source": [
    "## The Game\n",
    "\n",
    "**I broke down my codes into steps to make it easy to read and follow:**\n",
    "\n",
    "** Step 1: Import the random module. This will be used to shuffle the deck prior to dealing. Then, declare variables to store suits, ranks and values. Finally, declare a Boolean value to be used to control <code>while</code> loops. This is a common practice used to control the flow of the game.**\n",
    "\n",
    "    suits = ('Hearts', 'Diamonds', 'Spades', 'Clubs')\n",
    "    ranks = ('Two', 'Three', 'Four', 'Five', 'Six', 'Seven', 'Eight', 'Nine', 'Ten', 'Jack', 'Queen', 'King', 'Ace')\n",
    "    values = {'Two':2, 'Three':3, 'Four':4, 'Five':5, 'Six':6, 'Seven':7, 'Eight':8, 'Nine':9, 'Ten':10, 'Jack':10,\n",
    "             'Queen':10, 'King':10, 'Ace':11}"
   ]
  },
  {
   "cell_type": "code",
   "execution_count": 1,
   "metadata": {},
   "outputs": [],
   "source": [
    "import random\n",
    "\n",
    "suits = ('Hearts', 'Diamonds', 'Spades', 'Clubs')\n",
    "ranks = ('Two', 'Three', 'Four', 'Five', 'Six', 'Seven', 'Eight', 'Nine', 'Ten', 'Jack', 'Queen', 'King', 'Ace')\n",
    "values = {'Two':2, 'Three':3, 'Four':4, 'Five':5, 'Six':6, 'Seven':7, 'Eight':8, 'Nine':9, 'Ten':10, 'Jack':10,\n",
    "         'Queen':10, 'King':10, 'Ace':11}\n",
    "\n",
    "\n",
    "#the above variables are called global variables\n",
    "\n",
    "playing = True # this is for the while loop to be able to show when playing is on and when to break out of it"
   ]
  },
  {
   "cell_type": "markdown",
   "metadata": {},
   "source": [
    "### Class Definitions\n",
    "I created a Card class where each Card object has a suit and a rank, then a Deck class to hold all 52 Card objects, and can be shuffled, and finally a Hand class that holds those Cards that have been dealt to each player from the Deck."
   ]
  },
  {
   "cell_type": "markdown",
   "metadata": {},
   "source": [
    "**Step 2: Create a Card Class**<br>\n",
    "A Card object really only needs two attributes: suit and rank. <br>In addition to the Card's \\_\\_init\\_\\_ method, a \\_\\_str\\_\\_ method that, when asked to print a Card, returns a string in the form \"Two of Hearts\""
   ]
  },
  {
   "cell_type": "code",
   "execution_count": 1,
   "metadata": {},
   "outputs": [],
   "source": [
    "class Card: #this line can also be written as class Card(). It doesn't matter as long as you're not inheriting a class.\n",
    "    \n",
    "    def __init__(self,suit,rank):\n",
    "        self.suit = suit\n",
    "        self.rank = rank\n",
    "    \n",
    "    def __str__(self):\n",
    "        return self.rank + ' of ' + self.suit"
   ]
  },
  {
   "cell_type": "markdown",
   "metadata": {},
   "source": [
    "**Step 3: Create a Deck Class**<br>\n",
    "This is where to store 52 card objects in a list that can later be shuffled. First and foremost is to *instantiate* all 52 unique card objects and add them to the list. So long as the Card class definition appears in the code, I can build Card objects inside the Deck \\_\\_init\\_\\_ method. Iterating over sequences of suits and ranks to build out each card. This might appear inside a Deck class \\_\\_init\\_\\_ method:\n",
    "\n",
    "    for suit in suits:\n",
    "        for rank in ranks:\n",
    "\n",
    "In addition to an \\_\\_init\\_\\_ method I added methods to shuffle the deck, and to deal out cards during gameplay.<br><br>\n",
    "OPTIONAL: There might never be a need to print the contents of the deck during gameplay, but having the ability to see the cards inside it may help troubleshoot any problems that occur during development. With this in mind, I added a \\_\\_str\\_\\_ method to the class definition."
   ]
  },
  {
   "cell_type": "code",
   "execution_count": 3,
   "metadata": {},
   "outputs": [],
   "source": [
    "class Deck:\n",
    "    \n",
    "    def __init__(self):\n",
    "        self.deck = []  # start with an empty list, the deck is not a parameter, we do not want the user to be able to input the value of the deck. we want it to be thesame everytime\n",
    "        for suit in suits:\n",
    "            for rank in ranks:\n",
    "                self.deck.append(Card(suit,rank))\n",
    "    \n",
    "    def __str__(self):\n",
    "        deck_comp = ''\n",
    "        for card in self.deck:\n",
    "            deck_comp += '\\n '+card.__str__()\n",
    "        return \"The deck has:\" + deck_comp\n",
    "\n",
    "    def shuffle(self):\n",
    "        random.shuffle(self.deck) #in OOP not every method returns an output, in this case we are just shuffling the deck, so we don't have to use the return\n",
    "        \n",
    "    def deal(self):\n",
    "        single_card = self.deck.pop() # what this does is it grabs the deck list of 52 cards and pops a single card from it, this card is then stored in the single_card variable\n",
    "        return single_card"
   ]
  },
  {
   "cell_type": "markdown",
   "metadata": {},
   "source": [
    "TESTING: Just to see that everything works so far, let's see what the Deck looks like!"
   ]
  },
  {
   "cell_type": "code",
   "execution_count": 4,
   "metadata": {},
   "outputs": [
    {
     "name": "stdout",
     "output_type": "stream",
     "text": [
      "The deck has:\n",
      " Two of Diamonds\n",
      " Two of Hearts\n",
      " Two of Clubs\n",
      " Six of Hearts\n",
      " Seven of Clubs\n",
      " Six of Clubs\n",
      " Nine of Spades\n",
      " Three of Clubs\n",
      " Five of Clubs\n",
      " Jack of Clubs\n",
      " Ace of Clubs\n",
      " Jack of Diamonds\n",
      " Six of Diamonds\n",
      " Three of Hearts\n",
      " Four of Spades\n",
      " Eight of Spades\n",
      " Queen of Clubs\n",
      " King of Spades\n",
      " Three of Diamonds\n",
      " Seven of Hearts\n",
      " Six of Spades\n",
      " Queen of Spades\n",
      " King of Diamonds\n",
      " Queen of Hearts\n",
      " Ten of Hearts\n",
      " King of Hearts\n",
      " Eight of Diamonds\n",
      " Seven of Spades\n",
      " Five of Diamonds\n",
      " Ten of Diamonds\n",
      " Five of Hearts\n",
      " King of Clubs\n",
      " Ace of Spades\n",
      " Jack of Hearts\n",
      " Ten of Clubs\n",
      " Four of Hearts\n",
      " Ace of Diamonds\n",
      " Five of Spades\n",
      " Queen of Diamonds\n",
      " Nine of Diamonds\n",
      " Nine of Hearts\n",
      " Three of Spades\n",
      " Four of Clubs\n",
      " Eight of Hearts\n",
      " Four of Diamonds\n",
      " Ace of Hearts\n",
      " Nine of Clubs\n",
      " Seven of Diamonds\n",
      " Jack of Spades\n",
      " Two of Spades\n",
      " Eight of Clubs\n",
      " Ten of Spades\n"
     ]
    }
   ],
   "source": [
    "test_deck = Deck()\n",
    "test_deck.shuffle()\n",
    "print(test_deck)"
   ]
  },
  {
   "cell_type": "markdown",
   "metadata": {},
   "source": [
    "Great! Now let's move on to our Hand class."
   ]
  },
  {
   "cell_type": "markdown",
   "metadata": {},
   "source": [
    "**Step 4: Create a Hand Class**<br>\n",
    "In addition to holding Card objects dealt from the Deck, the Hand class may be used to calculate the value of those cards using the values dictionary defined above. It may also need to adjust for the value of Aces when appropriate."
   ]
  },
  {
   "cell_type": "code",
   "execution_count": 5,
   "metadata": {},
   "outputs": [],
   "source": [
    "class Hand:\n",
    "    def __init__(self):\n",
    "        self.cards = [] \n",
    "        self.value = 0   \n",
    "        self.aces = 0   \n",
    "    \n",
    "    def add_card(self,card):\n",
    "        \n",
    "        self.cards.append(card)\n",
    "        #the card above is called from the Deck class. deck.deal ---> single-card(suit,rank)\n",
    "        self.value += values[card.rank]\n",
    "    \n",
    "    #track aces\n",
    "        if card.rank == 'Aces':\n",
    "            self.aces += 1\n",
    "    \n",
    "    def adjust_for_ace(self):\n",
    "        \n",
    "        #if total value is > 21 and I still have an Ace(which is equal to 11 by default)\n",
    "        #Then change my ace to be 1 instead of 11 and reduce the total value by 10\n",
    "        \n",
    "        while self.value > 21 and self.value: #the self.value means self.value is > 0 or that there is an ace\n",
    "            self.value -=10\n",
    "            self.aces -= 1"
   ]
  },
  {
   "cell_type": "code",
   "execution_count": 9,
   "metadata": {},
   "outputs": [
    {
     "name": "stdout",
     "output_type": "stream",
     "text": [
      "Eight of Hearts\n",
      "8\n"
     ]
    }
   ],
   "source": [
    "test_deck = Deck()\n",
    "test_deck.shuffle()\n",
    "\n",
    "#Player\n",
    "test_player = Hand()\n",
    "#Deal one card from the deck Card(suit,rank)\n",
    "pulled_card = test_deck.deal()\n",
    "print(pulled_card)\n",
    "\n",
    "test_player.add_card(pulled_card)\n",
    "print(test_player.value)"
   ]
  },
  {
   "cell_type": "code",
   "execution_count": 10,
   "metadata": {},
   "outputs": [],
   "source": [
    "test_player.add_card(test_deck.deal())"
   ]
  },
  {
   "cell_type": "code",
   "execution_count": 11,
   "metadata": {},
   "outputs": [
    {
     "data": {
      "text/plain": [
       "18"
      ]
     },
     "execution_count": 11,
     "metadata": {},
     "output_type": "execute_result"
    }
   ],
   "source": [
    "test_player.value"
   ]
  },
  {
   "cell_type": "markdown",
   "metadata": {},
   "source": [
    "**Step 5: Create a Chips Class**<br>\n",
    "In addition to decks of cards and hands, I need to keep track of a Player's starting chips, bets, and ongoing winnings. This could be done using global variables, but in the spirit of object oriented programming, I will make a Chips class instead! I love me some OOP"
   ]
  },
  {
   "cell_type": "code",
   "execution_count": 12,
   "metadata": {},
   "outputs": [],
   "source": [
    "class Chips:\n",
    "    \n",
    "    def __init__(self,total=100):\n",
    "        self.total = total  # This can be set to a default value or supplied by a user input\n",
    "        self.bet = 0\n",
    "        \n",
    "    def win_bet(self):\n",
    "        self.total += self.bet\n",
    "    \n",
    "    def lose_bet(self):\n",
    "        self.total -= self.bet"
   ]
  },
  {
   "cell_type": "markdown",
   "metadata": {},
   "source": [
    "**Step 6: Write a function for taking bets**<br>\n",
    "Since I'll be asking the user for an integer value, this would be a good place to use <code>try</code>/<code>except</code>. I also have to check that a Player's bet can be covered by their available chips."
   ]
  },
  {
   "cell_type": "code",
   "execution_count": 26,
   "metadata": {},
   "outputs": [],
   "source": [
    "def take_bet(chips):\n",
    "    \n",
    "    while True:\n",
    "        \n",
    "        try:\n",
    "            chips.bet = int(input(\"How many chips would you like to bet? \"))\n",
    "        \n",
    "        except:\n",
    "            print(\"Sorry please provide an integer\")\n",
    "        \n",
    "        else:\n",
    "            if chips.bet > chips.total:\n",
    "                print(\"Sorry, you do not have enough chips! You have: {}\".format(chips.total))\n",
    "            else:\n",
    "                break\n",
    "            "
   ]
  },
  {
   "cell_type": "markdown",
   "metadata": {},
   "source": [
    "**Step 7: A function for taking hits**<br>\n",
    "Either player can take hits until they bust. This function will be called during gameplay anytime a Player requests a hit, or a Dealer's hand is less than 17. It should take in Deck and Hand objects as arguments, and deal one card off the deck and add it to the Hand. It will also check for aces in the event that a player's hand exceeds 21."
   ]
  },
  {
   "cell_type": "code",
   "execution_count": 27,
   "metadata": {},
   "outputs": [],
   "source": [
    "def hit(deck,hand):\n",
    "    \n",
    "    single_card = deck.deal()\n",
    "    hand.add_card(single_card)\n",
    "    hand.adjust_for_ace()"
   ]
  },
  {
   "cell_type": "markdown",
   "metadata": {},
   "source": [
    "**Step 8: A function prompting the Player to Hit or Stand**<br>\n",
    "This function should accept the deck and the player's hand as arguments, and assign playing as a global variable.<br>\n",
    "If the Player Hits, employ the hit() function above. If the Player Stands, set the playing variable to False - this will control the behavior of a <code>while</code> loop later on in the code."
   ]
  },
  {
   "cell_type": "code",
   "execution_count": 28,
   "metadata": {},
   "outputs": [],
   "source": [
    "def hit_or_stand(deck,hand):\n",
    "    global playing  # to control an upcoming while loop\n",
    "    \n",
    "    while True:\n",
    "        \n",
    "        x = input('Hit or Stand? Enter h or s ')\n",
    "        \n",
    "        if x[0].lower() == 'h':\n",
    "            hit(deck,hand)\n",
    "        \n",
    "        elif x[0].lower() == 's':\n",
    "            print(\"Player stands Dealers turn\")\n",
    "            playing = False\n",
    "        \n",
    "        else:\n",
    "            print('Sorry!, I did not understand that, please enter h or s only')\n",
    "            continue\n",
    "        break"
   ]
  },
  {
   "cell_type": "markdown",
   "metadata": {},
   "source": [
    "**Step 9: Functions to display cards**<br>\n",
    "When the game starts, and after each time Player takes a card, the dealer's first card is hidden and all of Player's cards are visible. At the end of the hand all cards are shown, and show each hand's total value. A function for each of these scenarios will be written"
   ]
  },
  {
   "cell_type": "code",
   "execution_count": 29,
   "metadata": {},
   "outputs": [],
   "source": [
    "def show_some(player,dealer):\n",
    "    \n",
    "    print('DEALERS HAND:')\n",
    "    print('one card hidden!')\n",
    "    print(dealer.cards[1])\n",
    "    print('\\n')\n",
    "    print('PLAYERS HAND:')\n",
    "    for card in player.cards:\n",
    "        print(card)\n",
    "    \n",
    "    \n",
    "def show_all(player,dealer):\n",
    "    \n",
    "    print('DEALERS HAND:')\n",
    "    for card in dealer.cards:\n",
    "        print(card)\n",
    "    print('\\n')\n",
    "    print('PLAYERS HAND:')\n",
    "    for card in player.cards:\n",
    "        print(card)"
   ]
  },
  {
   "cell_type": "markdown",
   "metadata": {},
   "source": [
    "**Step 10: Functions to handle end of game scenarios**<br>\n",
    "Always pass player's hand, dealer's hand and chips as needed."
   ]
  },
  {
   "cell_type": "code",
   "execution_count": 32,
   "metadata": {},
   "outputs": [],
   "source": [
    "def player_busts(player,dealer,chips):\n",
    "    print('BUST PLAYER!')\n",
    "    chips.lose_bet()\n",
    "\n",
    "def player_wins(player,dealer,chips):\n",
    "    print('PLAYER WIN!')\n",
    "    chips.win_bet()\n",
    "\n",
    "def dealer_busts(player,dealer,chips):\n",
    "    print('PLAYER WIN!' 'DEALER BUSTED!')\n",
    "    chips.win_bet()\n",
    "    \n",
    "def dealer_wins(player,dealer,chips):\n",
    "    print('DELAER WINS!')\n",
    "    chips.lose_bet()\n",
    "    \n",
    "def push(player,dealer):\n",
    "    print(\"Dealer and Player Tie! PUSH\")"
   ]
  },
  {
   "cell_type": "markdown",
   "metadata": {},
   "source": [
    "### And now on to the game!! Yay!!!"
   ]
  },
  {
   "cell_type": "code",
   "execution_count": 33,
   "metadata": {},
   "outputs": [
    {
     "name": "stdout",
     "output_type": "stream",
     "text": [
      "Welcome to Black Jack\n",
      "How many chips would you like to bet? 250\n",
      "Sorry, you do not have enough chips! You have: 100\n",
      "How many chips would you like to bet? 50\n",
      "DEALERS HAND:\n",
      "one card hidden!\n",
      "King of Diamonds\n",
      "\n",
      "\n",
      "PLAYERS HAND:\n",
      "Nine of Hearts\n",
      "Seven of Clubs\n",
      "DEALERS HAND:\n",
      "Four of Spades\n",
      "King of Diamonds\n",
      "Ten of Clubs\n",
      "Eight of Hearts\n",
      "Seven of Spades\n",
      "\n",
      "\n",
      "PLAYERS HAND:\n",
      "Nine of Hearts\n",
      "Seven of Clubs\n",
      "DELAER WINS!\n",
      "\n",
      " Player total chips are at: 50\n",
      "Would you like to play another hand? y/ny\n",
      "Welcome to Black Jack\n",
      "How many chips would you like to bet? 40\n",
      "DEALERS HAND:\n",
      "one card hidden!\n",
      "Seven of Clubs\n",
      "\n",
      "\n",
      "PLAYERS HAND:\n",
      "Queen of Diamonds\n",
      "Seven of Hearts\n",
      "Hit or Stand? Enter h or s s\n",
      "Player stands Dealers turn\n",
      "DEALERS HAND:\n",
      "one card hidden!\n",
      "Seven of Clubs\n",
      "\n",
      "\n",
      "PLAYERS HAND:\n",
      "Queen of Diamonds\n",
      "Seven of Hearts\n",
      "DEALERS HAND:\n",
      "Eight of Clubs\n",
      "Seven of Clubs\n",
      "Jack of Spades\n",
      "Three of Spades\n",
      "\n",
      "\n",
      "PLAYERS HAND:\n",
      "Queen of Diamonds\n",
      "Seven of Hearts\n",
      "DELAER WINS!\n",
      "\n",
      " Player total chips are at: 60\n",
      "Would you like to play another hand? y/ny\n",
      "Welcome to Black Jack\n",
      "How many chips would you like to bet? 50\n",
      "DEALERS HAND:\n",
      "one card hidden!\n",
      "Jack of Clubs\n",
      "\n",
      "\n",
      "PLAYERS HAND:\n",
      "Ace of Spades\n",
      "Queen of Clubs\n",
      "Hit or Stand? Enter h or s s\n",
      "Player stands Dealers turn\n",
      "DEALERS HAND:\n",
      "one card hidden!\n",
      "Jack of Clubs\n",
      "\n",
      "\n",
      "PLAYERS HAND:\n",
      "Ace of Spades\n",
      "Queen of Clubs\n",
      "DEALERS HAND:\n",
      "Jack of Hearts\n",
      "Jack of Clubs\n",
      "Ace of Clubs\n",
      "\n",
      "\n",
      "PLAYERS HAND:\n",
      "Ace of Spades\n",
      "Queen of Clubs\n",
      "Dealer and Player Tie! PUSH\n",
      "\n",
      " Player total chips are at: 100\n",
      "Would you like to play another hand? y/ny\n",
      "Welcome to Black Jack\n",
      "How many chips would you like to bet? 50\n",
      "DEALERS HAND:\n",
      "one card hidden!\n",
      "Ten of Clubs\n",
      "\n",
      "\n",
      "PLAYERS HAND:\n",
      "Nine of Diamonds\n",
      "Ace of Spades\n",
      "Hit or Stand? Enter h or s s\n",
      "Player stands Dealers turn\n",
      "DEALERS HAND:\n",
      "one card hidden!\n",
      "Ten of Clubs\n",
      "\n",
      "\n",
      "PLAYERS HAND:\n",
      "Nine of Diamonds\n",
      "Ace of Spades\n",
      "DEALERS HAND:\n",
      "Two of Diamonds\n",
      "Ten of Clubs\n",
      "Eight of Spades\n",
      "\n",
      "\n",
      "PLAYERS HAND:\n",
      "Nine of Diamonds\n",
      "Ace of Spades\n",
      "Dealer and Player Tie! PUSH\n",
      "\n",
      " Player total chips are at: 100\n",
      "Would you like to play another hand? y/nn\n",
      "Thank you for playing\n"
     ]
    }
   ],
   "source": [
    "while True:\n",
    "    # Print an opening statement\n",
    "\n",
    "    print('Welcome to Black Jack')\n",
    "    \n",
    "    # Create & shuffle the deck, deal two cards to each player\n",
    "    \n",
    "    deck = Deck()\n",
    "    deck.shuffle()\n",
    "    \n",
    "    player_hand = Hand()\n",
    "    player_hand.add_card(deck.deal())\n",
    "    player_hand.add_card(deck.deal())\n",
    "    \n",
    "    dealer_hand = Hand()\n",
    "    dealer_hand.add_card(deck.deal())\n",
    "    dealer_hand.add_card(deck.deal())\n",
    "\n",
    "    \n",
    "        \n",
    "    # Set up the Player's chips\n",
    "    player_chips = Chips()\n",
    "    \n",
    "    \n",
    "    # Prompt the Player for their bet\n",
    "    take_bet(player_chips)\n",
    "\n",
    "    \n",
    "    # Show cards (but keep one dealer card hidden)\n",
    "    show_some(player_hand,dealer_hand)\n",
    "\n",
    "    \n",
    "    while playing:  # recall this variable from the hit_or_stand function\n",
    "        \n",
    "        # Prompt for Player to Hit or Stand\n",
    "        hit_or_stand(deck,player_hand)\n",
    "        \n",
    "        # Show cards (but keep one dealer card hidden)\n",
    "        show_some(player_hand,dealer_hand)\n",
    " \n",
    "        \n",
    "        # If player's hand exceeds 21, run player_busts() and break out of loop\n",
    "        if player_hand.value > 21:\n",
    "            player_busts(player_hand,dealer_hand,player_chips)\n",
    "\n",
    "            break\n",
    "\n",
    "    # If Player hasn't busted, play Dealer's hand until Dealer reaches 17\n",
    "    if player_hand.value <= 21:\n",
    "        \n",
    "        while dealer_hand.value < player_hand.value:\n",
    "            #either use 17 or say as long as the dealer hand is less than the player hand, hit the deck\n",
    "            hit(deck,dealer_hand)\n",
    "    \n",
    "    \n",
    "        # Show all cards since the dealer is now playing\n",
    "        show_all(player_hand,dealer_hand)\n",
    "        \n",
    "    \n",
    "        # Run different winning scenarios\n",
    "        if dealer_hand.value > 21:\n",
    "            dealer_busts(player_hand,dealer_hand,player_chips)\n",
    "        elif dealer_hand.value > player_hand.value:\n",
    "            dealer_wins(player_hand,dealer_hand,player_chips)\n",
    "        elif dealer_hand.value < player_hand.value: # this is for scenarios where you use soft 17 rule as explained above\n",
    "            player_wins(player_hand,dealer_hand,player_chips)\n",
    "        else:\n",
    "            push(dealer_hand,player_hand)\n",
    "    \n",
    "    # Inform Player of their chips total \n",
    "    print('\\n Player total chips are at: {}'.format(player_chips.total))\n",
    "    \n",
    "    # Ask to play again\n",
    "    new_game = input(\"Would you like to play another hand? y/n\")\n",
    "    \n",
    "    if new_game[0].lower() == 'y':\n",
    "        playing = True\n",
    "        continue\n",
    "        \n",
    "    else:\n",
    "        print(\"Thank you for playing\")\n",
    "\n",
    "        break"
   ]
  },
  {
   "cell_type": "markdown",
   "metadata": {},
   "source": [
    "And that's it!\n",
    "\n",
    "# Casino Royale"
   ]
  }
 ],
 "metadata": {
  "kernelspec": {
   "display_name": "Python 3",
   "language": "python",
   "name": "python3"
  },
  "language_info": {
   "codemirror_mode": {
    "name": "ipython",
    "version": 3
   },
   "file_extension": ".py",
   "mimetype": "text/x-python",
   "name": "python",
   "nbconvert_exporter": "python",
   "pygments_lexer": "ipython3",
   "version": "3.6.4"
  }
 },
 "nbformat": 4,
 "nbformat_minor": 1
}
